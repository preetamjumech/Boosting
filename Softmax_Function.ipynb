{
  "nbformat": 4,
  "nbformat_minor": 0,
  "metadata": {
    "colab": {
      "name": "Softmax Function.ipynb",
      "provenance": [],
      "authorship_tag": "ABX9TyN4BZRn85nRbzNM/BI91/Q4",
      "include_colab_link": true
    },
    "kernelspec": {
      "name": "python3",
      "display_name": "Python 3"
    },
    "language_info": {
      "name": "python"
    }
  },
  "cells": [
    {
      "cell_type": "markdown",
      "metadata": {
        "id": "view-in-github",
        "colab_type": "text"
      },
      "source": [
        "<a href=\"https://colab.research.google.com/github/preetamjumech/Boosting/blob/main/Softmax_Function.ipynb\" target=\"_parent\"><img src=\"https://colab.research.google.com/assets/colab-badge.svg\" alt=\"Open In Colab\"/></a>"
      ]
    },
    {
      "cell_type": "code",
      "execution_count": 1,
      "metadata": {
        "id": "CMUoESK0EOQs"
      },
      "outputs": [],
      "source": [
        "import numpy as np"
      ]
    },
    {
      "cell_type": "code",
      "source": [
        "x_input = np.array([-2,4,13,25])"
      ],
      "metadata": {
        "id": "8ryh0we1EW1_"
      },
      "execution_count": 2,
      "outputs": []
    },
    {
      "cell_type": "code",
      "source": [
        "numerator = np.exp(x_input)\n",
        "print(numerator)"
      ],
      "metadata": {
        "colab": {
          "base_uri": "https://localhost:8080/"
        },
        "id": "BGFng8AREdKv",
        "outputId": "37684c75-3765-4942-bded-e022e72e38c9"
      },
      "execution_count": 4,
      "outputs": [
        {
          "output_type": "stream",
          "name": "stdout",
          "text": [
            "[1.35335283e-01 5.45981500e+01 4.42413392e+05 7.20048993e+10]\n"
          ]
        }
      ]
    },
    {
      "cell_type": "code",
      "source": [
        "denominator = np.sum(numerator)\n",
        "print(denominator)"
      ],
      "metadata": {
        "colab": {
          "base_uri": "https://localhost:8080/"
        },
        "id": "b1bAh6J0Eo42",
        "outputId": "504b19d2-3391-49b3-f711-79287f4e7b1f"
      },
      "execution_count": 6,
      "outputs": [
        {
          "output_type": "stream",
          "name": "stdout",
          "text": [
            "72005341805.51137\n"
          ]
        }
      ]
    },
    {
      "cell_type": "code",
      "source": [
        "soft_max  = numerator/denominator\n",
        "print(soft_max)"
      ],
      "metadata": {
        "colab": {
          "base_uri": "https://localhost:8080/"
        },
        "id": "xKE-CwVyE_lG",
        "outputId": "f80848bf-195e-4c7c-faeb-2016c7f2d708"
      },
      "execution_count": 7,
      "outputs": [
        {
          "output_type": "stream",
          "name": "stdout",
          "text": [
            "[1.87951727e-12 7.58251383e-10 6.14417460e-06 9.99993855e-01]\n"
          ]
        }
      ]
    },
    {
      "cell_type": "code",
      "source": [
        "pred = np.argmax(soft_max)\n",
        "print(pred)"
      ],
      "metadata": {
        "colab": {
          "base_uri": "https://localhost:8080/"
        },
        "id": "FeDbp9x6FOa_",
        "outputId": "e984bbc3-f064-4bd6-f651-948a92b4e49e"
      },
      "execution_count": 8,
      "outputs": [
        {
          "output_type": "stream",
          "name": "stdout",
          "text": [
            "3\n"
          ]
        }
      ]
    },
    {
      "cell_type": "code",
      "source": [
        ""
      ],
      "metadata": {
        "id": "Z04YSkvVFjWu"
      },
      "execution_count": null,
      "outputs": []
    }
  ]
}