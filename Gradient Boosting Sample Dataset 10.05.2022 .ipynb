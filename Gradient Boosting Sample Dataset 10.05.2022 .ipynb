{
 "cells": [
  {
   "cell_type": "code",
   "execution_count": 1,
   "id": "aa1d30ce",
   "metadata": {},
   "outputs": [],
   "source": [
    "import numpy as np\n",
    "import matplotlib.pyplot as plt\n",
    "import pandas as pd"
   ]
  },
  {
   "cell_type": "code",
   "execution_count": 2,
   "id": "90e9b5fb",
   "metadata": {},
   "outputs": [],
   "source": [
    "np.random.seed(42)\n",
    "X=np.random.rand(100,1)-0.5   #Create an array and populate it with random samples from a uniform distribution over [0, 1).\n",
    "y=3*X[:,0]**2 + 0.05*np.random.randn(100)"
   ]
  },
  {
   "cell_type": "code",
   "execution_count": 3,
   "id": "c5e017aa",
   "metadata": {},
   "outputs": [],
   "source": [
    "df=pd.DataFrame()"
   ]
  },
  {
   "cell_type": "code",
   "execution_count": 4,
   "id": "23103bbb",
   "metadata": {},
   "outputs": [
    {
     "data": {
      "text/plain": [
       "array([[-0.12545988],\n",
       "       [ 0.45071431],\n",
       "       [ 0.23199394],\n",
       "       [ 0.09865848],\n",
       "       [-0.34398136],\n",
       "       [-0.34400548],\n",
       "       [-0.44191639],\n",
       "       [ 0.36617615],\n",
       "       [ 0.10111501],\n",
       "       [ 0.20807258],\n",
       "       [-0.47941551],\n",
       "       [ 0.46990985],\n",
       "       [ 0.33244264],\n",
       "       [-0.28766089],\n",
       "       [-0.31817503],\n",
       "       [-0.31659549],\n",
       "       [-0.19575776],\n",
       "       [ 0.02475643],\n",
       "       [-0.06805498],\n",
       "       [-0.20877086],\n",
       "       [ 0.11185289],\n",
       "       [-0.36050614],\n",
       "       [-0.20785535],\n",
       "       [-0.13363816],\n",
       "       [-0.04393002],\n",
       "       [ 0.28517596],\n",
       "       [-0.30032622],\n",
       "       [ 0.01423444],\n",
       "       [ 0.09241457],\n",
       "       [-0.45354959],\n",
       "       [ 0.10754485],\n",
       "       [-0.32947588],\n",
       "       [-0.43494841],\n",
       "       [ 0.44888554],\n",
       "       [ 0.46563203],\n",
       "       [ 0.30839735],\n",
       "       [-0.19538623],\n",
       "       [-0.40232789],\n",
       "       [ 0.18423303],\n",
       "       [-0.05984751],\n",
       "       [-0.37796177],\n",
       "       [-0.00482309],\n",
       "       [-0.46561148],\n",
       "       [ 0.4093204 ],\n",
       "       [-0.24122002],\n",
       "       [ 0.16252228],\n",
       "       [-0.18828892],\n",
       "       [ 0.02006802],\n",
       "       [ 0.04671028],\n",
       "       [-0.31514554],\n",
       "       [ 0.46958463],\n",
       "       [ 0.27513282],\n",
       "       [ 0.43949894],\n",
       "       [ 0.39482735],\n",
       "       [ 0.09789998],\n",
       "       [ 0.42187424],\n",
       "       [-0.4115075 ],\n",
       "       [-0.30401714],\n",
       "       [-0.45477271],\n",
       "       [-0.17466967],\n",
       "       [-0.11132271],\n",
       "       [-0.22865097],\n",
       "       [ 0.32873751],\n",
       "       [-0.14324667],\n",
       "       [-0.21906549],\n",
       "       [ 0.04269608],\n",
       "       [-0.35907578],\n",
       "       [ 0.30219698],\n",
       "       [-0.42544936],\n",
       "       [ 0.48688694],\n",
       "       [ 0.27224477],\n",
       "       [-0.30128432],\n",
       "       [-0.49447788],\n",
       "       [ 0.31546143],\n",
       "       [ 0.20685734],\n",
       "       [ 0.22900717],\n",
       "       [ 0.27127035],\n",
       "       [-0.42595535],\n",
       "       [-0.14153427],\n",
       "       [-0.38413094],\n",
       "       [ 0.36310343],\n",
       "       [ 0.12329813],\n",
       "       [-0.16910198],\n",
       "       [-0.43644165],\n",
       "       [-0.18901768],\n",
       "       [-0.17481668],\n",
       "       [ 0.22960618],\n",
       "       [ 0.13755747],\n",
       "       [ 0.38721274],\n",
       "       [-0.02778507],\n",
       "       [-0.38040575],\n",
       "       [ 0.21324479],\n",
       "       [ 0.26078505],\n",
       "       [ 0.0612772 ],\n",
       "       [ 0.27096718],\n",
       "       [-0.0062044 ],\n",
       "       [ 0.02273283],\n",
       "       [-0.07245898],\n",
       "       [-0.47458087],\n",
       "       [-0.39210857]])"
      ]
     },
     "execution_count": 4,
     "metadata": {},
     "output_type": "execute_result"
    }
   ],
   "source": [
    "X"
   ]
  },
  {
   "cell_type": "code",
   "execution_count": 5,
   "id": "c187c1d9",
   "metadata": {},
   "outputs": [
    {
     "data": {
      "text/plain": [
       "array([ 5.15728987e-02,  5.94479790e-01,  1.66051606e-01, -7.01779562e-02,\n",
       "        3.43985933e-01,  3.72874939e-01,  6.59764984e-01,  3.76341398e-01,\n",
       "       -9.75194335e-03,  1.04794741e-01,  7.35287787e-01,  6.78883363e-01,\n",
       "        3.05066318e-01,  2.73909733e-01,  3.08559932e-01,  3.49130363e-01,\n",
       "        7.98606436e-02, -1.45444646e-02, -5.71096619e-03,  5.75800683e-02,\n",
       "        5.23392240e-02,  4.02946793e-01,  1.29867214e-01,  4.18481141e-02,\n",
       "       -6.49789982e-02,  2.22943721e-01,  2.53451786e-01, -3.95060058e-02,\n",
       "        1.75570720e-02,  6.37324227e-01,  1.29006981e-01,  3.34391950e-01,\n",
       "        5.80417870e-01,  6.00772381e-01,  5.54501010e-01,  2.84001079e-01,\n",
       "        1.17538848e-01,  6.08765289e-01,  9.22073759e-02,  2.58225391e-02,\n",
       "        4.26829699e-01, -5.83641153e-02,  7.07523289e-01,  5.40226226e-01,\n",
       "        2.14112889e-01,  3.37711060e-02,  1.76497872e-01, -6.88843767e-02,\n",
       "        3.58884053e-02,  4.07472924e-01,  6.12002352e-01,  1.98779325e-01,\n",
       "        5.84460527e-01,  4.42492127e-01, -4.87799540e-02,  5.37361759e-01,\n",
       "        4.54900077e-01,  3.00958881e-01,  5.74483445e-01,  1.69025200e-01,\n",
       "       -1.98442712e-03,  1.40740720e-01,  3.64880911e-01,  1.56124184e-05,\n",
       "        1.55342064e-01,  7.08260043e-02,  3.06432075e-01,  2.83200738e-01,\n",
       "        5.56015604e-01,  7.50267811e-01,  1.60504108e-01,  2.06293891e-01,\n",
       "        7.59622208e-01,  3.13396972e-01,  1.40894525e-01,  1.74655260e-01,\n",
       "        1.86761567e-01,  5.55926561e-01,  7.47494737e-02,  4.06952167e-01,\n",
       "        4.88821019e-01,  6.92989303e-02,  2.62212591e-02,  6.04271621e-01,\n",
       "        5.84489646e-02,  1.31036843e-01,  2.16086770e-01,  1.57320579e-02,\n",
       "        4.97969931e-01,  2.29550775e-02,  4.75228621e-01,  2.31259667e-01,\n",
       "        1.91757119e-01, -2.64221234e-02,  1.75793916e-01, -4.06750304e-02,\n",
       "       -2.30474088e-03,  3.28085108e-02,  6.89515556e-01,  5.02606562e-01])"
      ]
     },
     "execution_count": 5,
     "metadata": {},
     "output_type": "execute_result"
    }
   ],
   "source": [
    "y"
   ]
  },
  {
   "cell_type": "code",
   "execution_count": 6,
   "id": "04aa43b5",
   "metadata": {},
   "outputs": [],
   "source": [
    "df[\"X\"]=X.reshape(100)"
   ]
  },
  {
   "cell_type": "code",
   "execution_count": 7,
   "id": "b5e0edc5",
   "metadata": {},
   "outputs": [
    {
     "data": {
      "text/plain": [
       "0    -0.125460\n",
       "1     0.450714\n",
       "2     0.231994\n",
       "3     0.098658\n",
       "4    -0.343981\n",
       "        ...   \n",
       "95   -0.006204\n",
       "96    0.022733\n",
       "97   -0.072459\n",
       "98   -0.474581\n",
       "99   -0.392109\n",
       "Name: X, Length: 100, dtype: float64"
      ]
     },
     "execution_count": 7,
     "metadata": {},
     "output_type": "execute_result"
    }
   ],
   "source": [
    "df[\"X\"]"
   ]
  },
  {
   "cell_type": "code",
   "execution_count": 8,
   "id": "c4ddf85b",
   "metadata": {},
   "outputs": [],
   "source": [
    "df[\"y\"]=y"
   ]
  },
  {
   "cell_type": "code",
   "execution_count": 9,
   "id": "cc1e92f8",
   "metadata": {},
   "outputs": [
    {
     "data": {
      "text/plain": [
       "0     0.051573\n",
       "1     0.594480\n",
       "2     0.166052\n",
       "3    -0.070178\n",
       "4     0.343986\n",
       "        ...   \n",
       "95   -0.040675\n",
       "96   -0.002305\n",
       "97    0.032809\n",
       "98    0.689516\n",
       "99    0.502607\n",
       "Name: y, Length: 100, dtype: float64"
      ]
     },
     "execution_count": 9,
     "metadata": {},
     "output_type": "execute_result"
    }
   ],
   "source": [
    "df[\"y\"]"
   ]
  },
  {
   "cell_type": "code",
   "execution_count": 10,
   "id": "bb206588",
   "metadata": {},
   "outputs": [
    {
     "data": {
      "text/html": [
       "<div>\n",
       "<style scoped>\n",
       "    .dataframe tbody tr th:only-of-type {\n",
       "        vertical-align: middle;\n",
       "    }\n",
       "\n",
       "    .dataframe tbody tr th {\n",
       "        vertical-align: top;\n",
       "    }\n",
       "\n",
       "    .dataframe thead th {\n",
       "        text-align: right;\n",
       "    }\n",
       "</style>\n",
       "<table border=\"1\" class=\"dataframe\">\n",
       "  <thead>\n",
       "    <tr style=\"text-align: right;\">\n",
       "      <th></th>\n",
       "      <th>X</th>\n",
       "      <th>y</th>\n",
       "    </tr>\n",
       "  </thead>\n",
       "  <tbody>\n",
       "    <tr>\n",
       "      <th>0</th>\n",
       "      <td>-0.125460</td>\n",
       "      <td>0.051573</td>\n",
       "    </tr>\n",
       "    <tr>\n",
       "      <th>1</th>\n",
       "      <td>0.450714</td>\n",
       "      <td>0.594480</td>\n",
       "    </tr>\n",
       "    <tr>\n",
       "      <th>2</th>\n",
       "      <td>0.231994</td>\n",
       "      <td>0.166052</td>\n",
       "    </tr>\n",
       "    <tr>\n",
       "      <th>3</th>\n",
       "      <td>0.098658</td>\n",
       "      <td>-0.070178</td>\n",
       "    </tr>\n",
       "    <tr>\n",
       "      <th>4</th>\n",
       "      <td>-0.343981</td>\n",
       "      <td>0.343986</td>\n",
       "    </tr>\n",
       "    <tr>\n",
       "      <th>...</th>\n",
       "      <td>...</td>\n",
       "      <td>...</td>\n",
       "    </tr>\n",
       "    <tr>\n",
       "      <th>95</th>\n",
       "      <td>-0.006204</td>\n",
       "      <td>-0.040675</td>\n",
       "    </tr>\n",
       "    <tr>\n",
       "      <th>96</th>\n",
       "      <td>0.022733</td>\n",
       "      <td>-0.002305</td>\n",
       "    </tr>\n",
       "    <tr>\n",
       "      <th>97</th>\n",
       "      <td>-0.072459</td>\n",
       "      <td>0.032809</td>\n",
       "    </tr>\n",
       "    <tr>\n",
       "      <th>98</th>\n",
       "      <td>-0.474581</td>\n",
       "      <td>0.689516</td>\n",
       "    </tr>\n",
       "    <tr>\n",
       "      <th>99</th>\n",
       "      <td>-0.392109</td>\n",
       "      <td>0.502607</td>\n",
       "    </tr>\n",
       "  </tbody>\n",
       "</table>\n",
       "<p>100 rows × 2 columns</p>\n",
       "</div>"
      ],
      "text/plain": [
       "           X         y\n",
       "0  -0.125460  0.051573\n",
       "1   0.450714  0.594480\n",
       "2   0.231994  0.166052\n",
       "3   0.098658 -0.070178\n",
       "4  -0.343981  0.343986\n",
       "..       ...       ...\n",
       "95 -0.006204 -0.040675\n",
       "96  0.022733 -0.002305\n",
       "97 -0.072459  0.032809\n",
       "98 -0.474581  0.689516\n",
       "99 -0.392109  0.502607\n",
       "\n",
       "[100 rows x 2 columns]"
      ]
     },
     "execution_count": 10,
     "metadata": {},
     "output_type": "execute_result"
    }
   ],
   "source": [
    "df"
   ]
  },
  {
   "cell_type": "code",
   "execution_count": 11,
   "id": "87ecdc02",
   "metadata": {},
   "outputs": [
    {
     "data": {
      "image/png": "[encoded data removed]",
      "text/plain": [
       "<Figure size 432x288 with 1 Axes>"
      ]
     },
     "metadata": {
      "needs_background": "light"
     },
     "output_type": "display_data"
    }
   ],
   "source": [
    "plt.scatter(x=df[\"X\"],y=df[\"y\"])\n",
    "plt.show()"
   ]
  },
  {
   "cell_type": "code",
   "execution_count": 12,
   "id": "01b1118e",
   "metadata": {},
   "outputs": [],
   "source": [
    "df[\"pred1\"] = df[\"y\"].mean()"
   ]
  },
  {
   "cell_type": "code",
   "execution_count": 13,
   "id": "140945a9",
   "metadata": {},
   "outputs": [
    {
     "data": {
      "text/html": [
       "<div>\n",
       "<style scoped>\n",
       "    .dataframe tbody tr th:only-of-type {\n",
       "        vertical-align: middle;\n",
       "    }\n",
       "\n",
       "    .dataframe tbody tr th {\n",
       "        vertical-align: top;\n",
       "    }\n",
       "\n",
       "    .dataframe thead th {\n",
       "        text-align: right;\n",
       "    }\n",
       "</style>\n",
       "<table border=\"1\" class=\"dataframe\">\n",
       "  <thead>\n",
       "    <tr style=\"text-align: right;\">\n",
       "      <th></th>\n",
       "      <th>X</th>\n",
       "      <th>y</th>\n",
       "      <th>pred1</th>\n",
       "    </tr>\n",
       "  </thead>\n",
       "  <tbody>\n",
       "    <tr>\n",
       "      <th>0</th>\n",
       "      <td>-0.125460</td>\n",
       "      <td>0.051573</td>\n",
       "      <td>0.265458</td>\n",
       "    </tr>\n",
       "    <tr>\n",
       "      <th>1</th>\n",
       "      <td>0.450714</td>\n",
       "      <td>0.594480</td>\n",
       "      <td>0.265458</td>\n",
       "    </tr>\n",
       "    <tr>\n",
       "      <th>2</th>\n",
       "      <td>0.231994</td>\n",
       "      <td>0.166052</td>\n",
       "      <td>0.265458</td>\n",
       "    </tr>\n",
       "    <tr>\n",
       "      <th>3</th>\n",
       "      <td>0.098658</td>\n",
       "      <td>-0.070178</td>\n",
       "      <td>0.265458</td>\n",
       "    </tr>\n",
       "    <tr>\n",
       "      <th>4</th>\n",
       "      <td>-0.343981</td>\n",
       "      <td>0.343986</td>\n",
       "      <td>0.265458</td>\n",
       "    </tr>\n",
       "    <tr>\n",
       "      <th>...</th>\n",
       "      <td>...</td>\n",
       "      <td>...</td>\n",
       "      <td>...</td>\n",
       "    </tr>\n",
       "    <tr>\n",
       "      <th>95</th>\n",
       "      <td>-0.006204</td>\n",
       "      <td>-0.040675</td>\n",
       "      <td>0.265458</td>\n",
       "    </tr>\n",
       "    <tr>\n",
       "      <th>96</th>\n",
       "      <td>0.022733</td>\n",
       "      <td>-0.002305</td>\n",
       "      <td>0.265458</td>\n",
       "    </tr>\n",
       "    <tr>\n",
       "      <th>97</th>\n",
       "      <td>-0.072459</td>\n",
       "      <td>0.032809</td>\n",
       "      <td>0.265458</td>\n",
       "    </tr>\n",
       "    <tr>\n",
       "      <th>98</th>\n",
       "      <td>-0.474581</td>\n",
       "      <td>0.689516</td>\n",
       "      <td>0.265458</td>\n",
       "    </tr>\n",
       "    <tr>\n",
       "      <th>99</th>\n",
       "      <td>-0.392109</td>\n",
       "      <td>0.502607</td>\n",
       "      <td>0.265458</td>\n",
       "    </tr>\n",
       "  </tbody>\n",
       "</table>\n",
       "<p>100 rows × 3 columns</p>\n",
       "</div>"
      ],
      "text/plain": [
       "           X         y     pred1\n",
       "0  -0.125460  0.051573  0.265458\n",
       "1   0.450714  0.594480  0.265458\n",
       "2   0.231994  0.166052  0.265458\n",
       "3   0.098658 -0.070178  0.265458\n",
       "4  -0.343981  0.343986  0.265458\n",
       "..       ...       ...       ...\n",
       "95 -0.006204 -0.040675  0.265458\n",
       "96  0.022733 -0.002305  0.265458\n",
       "97 -0.072459  0.032809  0.265458\n",
       "98 -0.474581  0.689516  0.265458\n",
       "99 -0.392109  0.502607  0.265458\n",
       "\n",
       "[100 rows x 3 columns]"
      ]
     },
     "execution_count": 13,
     "metadata": {},
     "output_type": "execute_result"
    }
   ],
   "source": [
    "df"
   ]
  },
  {
   "cell_type": "code",
   "execution_count": 17,
   "id": "3de7b40d",
   "metadata": {},
   "outputs": [],
   "source": [
    "df[\"res1\"] = df[\"y\"]-df[\"pred1\"]"
   ]
  },
  {
   "cell_type": "code",
   "execution_count": 18,
   "id": "d942ebd8",
   "metadata": {},
   "outputs": [
    {
     "data": {
      "text/html": [
       "<div>\n",
       "<style scoped>\n",
       "    .dataframe tbody tr th:only-of-type {\n",
       "        vertical-align: middle;\n",
       "    }\n",
       "\n",
       "    .dataframe tbody tr th {\n",
       "        vertical-align: top;\n",
       "    }\n",
       "\n",
       "    .dataframe thead th {\n",
       "        text-align: right;\n",
       "    }\n",
       "</style>\n",
       "<table border=\"1\" class=\"dataframe\">\n",
       "  <thead>\n",
       "    <tr style=\"text-align: right;\">\n",
       "      <th></th>\n",
       "      <th>X</th>\n",
       "      <th>y</th>\n",
       "      <th>pred1</th>\n",
       "      <th>res1</th>\n",
       "    </tr>\n",
       "  </thead>\n",
       "  <tbody>\n",
       "    <tr>\n",
       "      <th>0</th>\n",
       "      <td>-0.125460</td>\n",
       "      <td>0.051573</td>\n",
       "      <td>0.265458</td>\n",
       "      <td>-0.213885</td>\n",
       "    </tr>\n",
       "    <tr>\n",
       "      <th>1</th>\n",
       "      <td>0.450714</td>\n",
       "      <td>0.594480</td>\n",
       "      <td>0.265458</td>\n",
       "      <td>0.329021</td>\n",
       "    </tr>\n",
       "    <tr>\n",
       "      <th>2</th>\n",
       "      <td>0.231994</td>\n",
       "      <td>0.166052</td>\n",
       "      <td>0.265458</td>\n",
       "      <td>-0.099407</td>\n",
       "    </tr>\n",
       "    <tr>\n",
       "      <th>3</th>\n",
       "      <td>0.098658</td>\n",
       "      <td>-0.070178</td>\n",
       "      <td>0.265458</td>\n",
       "      <td>-0.335636</td>\n",
       "    </tr>\n",
       "    <tr>\n",
       "      <th>4</th>\n",
       "      <td>-0.343981</td>\n",
       "      <td>0.343986</td>\n",
       "      <td>0.265458</td>\n",
       "      <td>0.078528</td>\n",
       "    </tr>\n",
       "    <tr>\n",
       "      <th>...</th>\n",
       "      <td>...</td>\n",
       "      <td>...</td>\n",
       "      <td>...</td>\n",
       "      <td>...</td>\n",
       "    </tr>\n",
       "    <tr>\n",
       "      <th>95</th>\n",
       "      <td>-0.006204</td>\n",
       "      <td>-0.040675</td>\n",
       "      <td>0.265458</td>\n",
       "      <td>-0.306133</td>\n",
       "    </tr>\n",
       "    <tr>\n",
       "      <th>96</th>\n",
       "      <td>0.022733</td>\n",
       "      <td>-0.002305</td>\n",
       "      <td>0.265458</td>\n",
       "      <td>-0.267763</td>\n",
       "    </tr>\n",
       "    <tr>\n",
       "      <th>97</th>\n",
       "      <td>-0.072459</td>\n",
       "      <td>0.032809</td>\n",
       "      <td>0.265458</td>\n",
       "      <td>-0.232650</td>\n",
       "    </tr>\n",
       "    <tr>\n",
       "      <th>98</th>\n",
       "      <td>-0.474581</td>\n",
       "      <td>0.689516</td>\n",
       "      <td>0.265458</td>\n",
       "      <td>0.424057</td>\n",
       "    </tr>\n",
       "    <tr>\n",
       "      <th>99</th>\n",
       "      <td>-0.392109</td>\n",
       "      <td>0.502607</td>\n",
       "      <td>0.265458</td>\n",
       "      <td>0.237148</td>\n",
       "    </tr>\n",
       "  </tbody>\n",
       "</table>\n",
       "<p>100 rows × 4 columns</p>\n",
       "</div>"
      ],
      "text/plain": [
       "           X         y     pred1      res1\n",
       "0  -0.125460  0.051573  0.265458 -0.213885\n",
       "1   0.450714  0.594480  0.265458  0.329021\n",
       "2   0.231994  0.166052  0.265458 -0.099407\n",
       "3   0.098658 -0.070178  0.265458 -0.335636\n",
       "4  -0.343981  0.343986  0.265458  0.078528\n",
       "..       ...       ...       ...       ...\n",
       "95 -0.006204 -0.040675  0.265458 -0.306133\n",
       "96  0.022733 -0.002305  0.265458 -0.267763\n",
       "97 -0.072459  0.032809  0.265458 -0.232650\n",
       "98 -0.474581  0.689516  0.265458  0.424057\n",
       "99 -0.392109  0.502607  0.265458  0.237148\n",
       "\n",
       "[100 rows x 4 columns]"
      ]
     },
     "execution_count": 18,
     "metadata": {},
     "output_type": "execute_result"
    }
   ],
   "source": [
    "df"
   ]
  },
  {
   "cell_type": "code",
   "execution_count": 19,
   "id": "a0935491",
   "metadata": {},
   "outputs": [
    {
     "data": {
      "text/plain": [
       "[<matplotlib.lines.Line2D at 0x2681e16edf0>]"
      ]
     },
     "execution_count": 19,
     "metadata": {},
     "output_type": "execute_result"
    },
    {
     "data": {
      "image/png": "[encoded data removed]",
      "text/plain": [
       "<Figure size 432x288 with 1 Axes>"
      ]
     },
     "metadata": {
      "needs_background": "light"
     },
     "output_type": "display_data"
    }
   ],
   "source": [
    "plt.scatter(df[\"X\"],df[\"y\"])\n",
    "plt.plot(df[\"X\"],df[\"pred1\"],color=\"red\")"
   ]
  },
  {
   "cell_type": "code",
   "execution_count": 20,
   "id": "6a512b9e",
   "metadata": {},
   "outputs": [],
   "source": [
    "from sklearn.tree import DecisionTreeRegressor"
   ]
  },
  {
   "cell_type": "code",
   "execution_count": 21,
   "id": "5485d05f",
   "metadata": {},
   "outputs": [],
   "source": [
    "tree1 = DecisionTreeRegressor(max_leaf_nodes=8)"
   ]
  },
  {
   "cell_type": "code",
   "execution_count": 22,
   "id": "de2be05d",
   "metadata": {},
   "outputs": [
    {
     "data": {
      "text/plain": [
       "DecisionTreeRegressor(max_leaf_nodes=8)"
      ]
     },
     "execution_count": 22,
     "metadata": {},
     "output_type": "execute_result"
    }
   ],
   "source": [
    "tree1"
   ]
  },
  {
   "cell_type": "code",
   "execution_count": 25,
   "id": "93893322",
   "metadata": {},
   "outputs": [
    {
     "data": {
      "text/plain": [
       "DecisionTreeRegressor(max_leaf_nodes=8)"
      ]
     },
     "execution_count": 25,
     "metadata": {},
     "output_type": "execute_result"
    }
   ],
   "source": [
    "tree1.fit(df[\"X\"].values.reshape(100,1),df[\"res1\"].values)"
   ]
  },
  {
   "cell_type": "code",
   "execution_count": 28,
   "id": "c8b9e6f7",
   "metadata": {},
   "outputs": [
    {
     "data": {
      "image/png": "[encoded data removed]",
      "text/plain": [
       "<Figure size 1008x432 with 1 Axes>"
      ]
     },
     "metadata": {
      "needs_background": "light"
     },
     "output_type": "display_data"
    }
   ],
   "source": [
    "plt.figure(figsize=(14,6))\n",
    "from sklearn.tree import plot_tree\n",
    "plot_tree(tree1)\n",
    "plt.show()"
   ]
  },
  {
   "cell_type": "code",
   "execution_count": 38,
   "id": "19376fa5",
   "metadata": {},
   "outputs": [
    {
     "data": {
      "text/plain": [
       "array([-0.5       , -0.49799599, -0.49599198, -0.49398798, -0.49198397,\n",
       "       -0.48997996, -0.48797595, -0.48597194, -0.48396794, -0.48196393,\n",
       "       -0.47995992, -0.47795591, -0.4759519 , -0.4739479 , -0.47194389,\n",
       "       -0.46993988, -0.46793587, -0.46593186, -0.46392786, -0.46192385,\n",
       "       -0.45991984, -0.45791583, -0.45591182, -0.45390782, -0.45190381,\n",
       "       -0.4498998 , -0.44789579, -0.44589178, -0.44388778, -0.44188377,\n",
       "       -0.43987976, -0.43787575, -0.43587174, -0.43386774, -0.43186373,\n",
       "       -0.42985972, -0.42785571, -0.4258517 , -0.4238477 , -0.42184369,\n",
       "       -0.41983968, -0.41783567, -0.41583166, -0.41382766, -0.41182365,\n",
       "       -0.40981964, -0.40781563, -0.40581162, -0.40380762, -0.40180361,\n",
       "       -0.3997996 , -0.39779559, -0.39579158, -0.39378758, -0.39178357,\n",
       "       -0.38977956, -0.38777555, -0.38577154, -0.38376754, -0.38176353,\n",
       "       -0.37975952, -0.37775551, -0.3757515 , -0.37374749, -0.37174349,\n",
       "       -0.36973948, -0.36773547, -0.36573146, -0.36372745, -0.36172345,\n",
       "       -0.35971944, -0.35771543, -0.35571142, -0.35370741, -0.35170341,\n",
       "       -0.3496994 , -0.34769539, -0.34569138, -0.34368737, -0.34168337,\n",
       "       -0.33967936, -0.33767535, -0.33567134, -0.33366733, -0.33166333,\n",
       "       -0.32965932, -0.32765531, -0.3256513 , -0.32364729, -0.32164329,\n",
       "       -0.31963928, -0.31763527, -0.31563126, -0.31362725, -0.31162325,\n",
       "       -0.30961924, -0.30761523, -0.30561122, -0.30360721, -0.30160321,\n",
       "       -0.2995992 , -0.29759519, -0.29559118, -0.29358717, -0.29158317,\n",
       "       -0.28957916, -0.28757515, -0.28557114, -0.28356713, -0.28156313,\n",
       "       -0.27955912, -0.27755511, -0.2755511 , -0.27354709, -0.27154309,\n",
       "       -0.26953908, -0.26753507, -0.26553106, -0.26352705, -0.26152305,\n",
       "       -0.25951904, -0.25751503, -0.25551102, -0.25350701, -0.25150301,\n",
       "       -0.249499  , -0.24749499, -0.24549098, -0.24348697, -0.24148297,\n",
       "       -0.23947896, -0.23747495, -0.23547094, -0.23346693, -0.23146293,\n",
       "       -0.22945892, -0.22745491, -0.2254509 , -0.22344689, -0.22144289,\n",
       "       -0.21943888, -0.21743487, -0.21543086, -0.21342685, -0.21142285,\n",
       "       -0.20941884, -0.20741483, -0.20541082, -0.20340681, -0.20140281,\n",
       "       -0.1993988 , -0.19739479, -0.19539078, -0.19338677, -0.19138277,\n",
       "       -0.18937876, -0.18737475, -0.18537074, -0.18336673, -0.18136273,\n",
       "       -0.17935872, -0.17735471, -0.1753507 , -0.17334669, -0.17134269,\n",
       "       -0.16933868, -0.16733467, -0.16533066, -0.16332665, -0.16132265,\n",
       "       -0.15931864, -0.15731463, -0.15531062, -0.15330661, -0.15130261,\n",
       "       -0.1492986 , -0.14729459, -0.14529058, -0.14328657, -0.14128257,\n",
       "       -0.13927856, -0.13727455, -0.13527054, -0.13326653, -0.13126253,\n",
       "       -0.12925852, -0.12725451, -0.1252505 , -0.12324649, -0.12124248,\n",
       "       -0.11923848, -0.11723447, -0.11523046, -0.11322645, -0.11122244,\n",
       "       -0.10921844, -0.10721443, -0.10521042, -0.10320641, -0.1012024 ,\n",
       "       -0.0991984 , -0.09719439, -0.09519038, -0.09318637, -0.09118236,\n",
       "       -0.08917836, -0.08717435, -0.08517034, -0.08316633, -0.08116232,\n",
       "       -0.07915832, -0.07715431, -0.0751503 , -0.07314629, -0.07114228,\n",
       "       -0.06913828, -0.06713427, -0.06513026, -0.06312625, -0.06112224,\n",
       "       -0.05911824, -0.05711423, -0.05511022, -0.05310621, -0.0511022 ,\n",
       "       -0.0490982 , -0.04709419, -0.04509018, -0.04308617, -0.04108216,\n",
       "       -0.03907816, -0.03707415, -0.03507014, -0.03306613, -0.03106212,\n",
       "       -0.02905812, -0.02705411, -0.0250501 , -0.02304609, -0.02104208,\n",
       "       -0.01903808, -0.01703407, -0.01503006, -0.01302605, -0.01102204,\n",
       "       -0.00901804, -0.00701403, -0.00501002, -0.00300601, -0.001002  ,\n",
       "        0.001002  ,  0.00300601,  0.00501002,  0.00701403,  0.00901804,\n",
       "        0.01102204,  0.01302605,  0.01503006,  0.01703407,  0.01903808,\n",
       "        0.02104208,  0.02304609,  0.0250501 ,  0.02705411,  0.02905812,\n",
       "        0.03106212,  0.03306613,  0.03507014,  0.03707415,  0.03907816,\n",
       "        0.04108216,  0.04308617,  0.04509018,  0.04709419,  0.0490982 ,\n",
       "        0.0511022 ,  0.05310621,  0.05511022,  0.05711423,  0.05911824,\n",
       "        0.06112224,  0.06312625,  0.06513026,  0.06713427,  0.06913828,\n",
       "        0.07114228,  0.07314629,  0.0751503 ,  0.07715431,  0.07915832,\n",
       "        0.08116232,  0.08316633,  0.08517034,  0.08717435,  0.08917836,\n",
       "        0.09118236,  0.09318637,  0.09519038,  0.09719439,  0.0991984 ,\n",
       "        0.1012024 ,  0.10320641,  0.10521042,  0.10721443,  0.10921844,\n",
       "        0.11122244,  0.11322645,  0.11523046,  0.11723447,  0.11923848,\n",
       "        0.12124248,  0.12324649,  0.1252505 ,  0.12725451,  0.12925852,\n",
       "        0.13126253,  0.13326653,  0.13527054,  0.13727455,  0.13927856,\n",
       "        0.14128257,  0.14328657,  0.14529058,  0.14729459,  0.1492986 ,\n",
       "        0.15130261,  0.15330661,  0.15531062,  0.15731463,  0.15931864,\n",
       "        0.16132265,  0.16332665,  0.16533066,  0.16733467,  0.16933868,\n",
       "        0.17134269,  0.17334669,  0.1753507 ,  0.17735471,  0.17935872,\n",
       "        0.18136273,  0.18336673,  0.18537074,  0.18737475,  0.18937876,\n",
       "        0.19138277,  0.19338677,  0.19539078,  0.19739479,  0.1993988 ,\n",
       "        0.20140281,  0.20340681,  0.20541082,  0.20741483,  0.20941884,\n",
       "        0.21142285,  0.21342685,  0.21543086,  0.21743487,  0.21943888,\n",
       "        0.22144289,  0.22344689,  0.2254509 ,  0.22745491,  0.22945892,\n",
       "        0.23146293,  0.23346693,  0.23547094,  0.23747495,  0.23947896,\n",
       "        0.24148297,  0.24348697,  0.24549098,  0.24749499,  0.249499  ,\n",
       "        0.25150301,  0.25350701,  0.25551102,  0.25751503,  0.25951904,\n",
       "        0.26152305,  0.26352705,  0.26553106,  0.26753507,  0.26953908,\n",
       "        0.27154309,  0.27354709,  0.2755511 ,  0.27755511,  0.27955912,\n",
       "        0.28156313,  0.28356713,  0.28557114,  0.28757515,  0.28957916,\n",
       "        0.29158317,  0.29358717,  0.29559118,  0.29759519,  0.2995992 ,\n",
       "        0.30160321,  0.30360721,  0.30561122,  0.30761523,  0.30961924,\n",
       "        0.31162325,  0.31362725,  0.31563126,  0.31763527,  0.31963928,\n",
       "        0.32164329,  0.32364729,  0.3256513 ,  0.32765531,  0.32965932,\n",
       "        0.33166333,  0.33366733,  0.33567134,  0.33767535,  0.33967936,\n",
       "        0.34168337,  0.34368737,  0.34569138,  0.34769539,  0.3496994 ,\n",
       "        0.35170341,  0.35370741,  0.35571142,  0.35771543,  0.35971944,\n",
       "        0.36172345,  0.36372745,  0.36573146,  0.36773547,  0.36973948,\n",
       "        0.37174349,  0.37374749,  0.3757515 ,  0.37775551,  0.37975952,\n",
       "        0.38176353,  0.38376754,  0.38577154,  0.38777555,  0.38977956,\n",
       "        0.39178357,  0.39378758,  0.39579158,  0.39779559,  0.3997996 ,\n",
       "        0.40180361,  0.40380762,  0.40581162,  0.40781563,  0.40981964,\n",
       "        0.41182365,  0.41382766,  0.41583166,  0.41783567,  0.41983968,\n",
       "        0.42184369,  0.4238477 ,  0.4258517 ,  0.42785571,  0.42985972,\n",
       "        0.43186373,  0.43386774,  0.43587174,  0.43787575,  0.43987976,\n",
       "        0.44188377,  0.44388778,  0.44589178,  0.44789579,  0.4498998 ,\n",
       "        0.45190381,  0.45390782,  0.45591182,  0.45791583,  0.45991984,\n",
       "        0.46192385,  0.46392786,  0.46593186,  0.46793587,  0.46993988,\n",
       "        0.47194389,  0.4739479 ,  0.4759519 ,  0.47795591,  0.47995992,\n",
       "        0.48196393,  0.48396794,  0.48597194,  0.48797595,  0.48997996,\n",
       "        0.49198397,  0.49398798,  0.49599198,  0.49799599,  0.5       ])"
      ]
     },
     "execution_count": 38,
     "metadata": {},
     "output_type": "execute_result"
    }
   ],
   "source": [
    "X_test = np.linspace(-0.5,0.5,500)\n",
    "X_test"
   ]
  },
  {
   "cell_type": "code",
   "execution_count": 30,
   "id": "d334512b",
   "metadata": {},
   "outputs": [
    {
     "data": {
      "text/plain": [
       "array([ 1.  ,  3.25,  5.5 ,  7.75, 10.  ])"
      ]
     },
     "execution_count": 30,
     "metadata": {},
     "output_type": "execute_result"
    }
   ],
   "source": [
    "#np.linspace(1,10,5)"
   ]
  },
  {
   "cell_type": "code",
   "execution_count": 45,
   "id": "a49a5a58",
   "metadata": {},
   "outputs": [],
   "source": [
    "y_pred = 0.265458 + tree1.predict(X_test.reshape(500,1))"
   ]
  },
  {
   "cell_type": "code",
   "execution_count": 46,
   "id": "043eb442",
   "metadata": {},
   "outputs": [
    {
     "data": {
      "text/plain": [
       "<matplotlib.collections.PathCollection at 0x268225ebe20>"
      ]
     },
     "execution_count": 46,
     "metadata": {},
     "output_type": "execute_result"
    },
    {
     "data": {
      "image/png": "[encoded data removed]",
      "text/plain": [
       "<Figure size 1008x288 with 1 Axes>"
      ]
     },
     "metadata": {
      "needs_background": "light"
     },
     "output_type": "display_data"
    }
   ],
   "source": [
    "plt.figure(figsize=(14,4))\n",
    "plt.subplot(121)\n",
    "plt.plot(X_test,y_pred,linewidth=2,color=\"red\")\n",
    "plt.scatter(df[\"X\"],df[\"y\"])"
   ]
  },
  {
   "cell_type": "code",
   "execution_count": 50,
   "id": "22e70398",
   "metadata": {},
   "outputs": [],
   "source": [
    "df[\"pred2\"] = 0.265458 + tree1.predict(df[\"X\"].values.reshape(100,1))"
   ]
  },
  {
   "cell_type": "code",
   "execution_count": 51,
   "id": "5d918ca0",
   "metadata": {},
   "outputs": [
    {
     "data": {
      "text/html": [
       "<div>\n",
       "<style scoped>\n",
       "    .dataframe tbody tr th:only-of-type {\n",
       "        vertical-align: middle;\n",
       "    }\n",
       "\n",
       "    .dataframe tbody tr th {\n",
       "        vertical-align: top;\n",
       "    }\n",
       "\n",
       "    .dataframe thead th {\n",
       "        text-align: right;\n",
       "    }\n",
       "</style>\n",
       "<table border=\"1\" class=\"dataframe\">\n",
       "  <thead>\n",
       "    <tr style=\"text-align: right;\">\n",
       "      <th></th>\n",
       "      <th>X</th>\n",
       "      <th>y</th>\n",
       "      <th>pred1</th>\n",
       "      <th>res1</th>\n",
       "      <th>pred2</th>\n",
       "    </tr>\n",
       "  </thead>\n",
       "  <tbody>\n",
       "    <tr>\n",
       "      <th>0</th>\n",
       "      <td>-0.125460</td>\n",
       "      <td>0.051573</td>\n",
       "      <td>0.265458</td>\n",
       "      <td>-0.213885</td>\n",
       "      <td>0.018319</td>\n",
       "    </tr>\n",
       "    <tr>\n",
       "      <th>1</th>\n",
       "      <td>0.450714</td>\n",
       "      <td>0.594480</td>\n",
       "      <td>0.265458</td>\n",
       "      <td>0.329021</td>\n",
       "      <td>0.605884</td>\n",
       "    </tr>\n",
       "    <tr>\n",
       "      <th>2</th>\n",
       "      <td>0.231994</td>\n",
       "      <td>0.166052</td>\n",
       "      <td>0.265458</td>\n",
       "      <td>-0.099407</td>\n",
       "      <td>0.215784</td>\n",
       "    </tr>\n",
       "    <tr>\n",
       "      <th>3</th>\n",
       "      <td>0.098658</td>\n",
       "      <td>-0.070178</td>\n",
       "      <td>0.265458</td>\n",
       "      <td>-0.335636</td>\n",
       "      <td>0.018319</td>\n",
       "    </tr>\n",
       "    <tr>\n",
       "      <th>4</th>\n",
       "      <td>-0.343981</td>\n",
       "      <td>0.343986</td>\n",
       "      <td>0.265458</td>\n",
       "      <td>0.078528</td>\n",
       "      <td>0.305964</td>\n",
       "    </tr>\n",
       "    <tr>\n",
       "      <th>...</th>\n",
       "      <td>...</td>\n",
       "      <td>...</td>\n",
       "      <td>...</td>\n",
       "      <td>...</td>\n",
       "      <td>...</td>\n",
       "    </tr>\n",
       "    <tr>\n",
       "      <th>95</th>\n",
       "      <td>-0.006204</td>\n",
       "      <td>-0.040675</td>\n",
       "      <td>0.265458</td>\n",
       "      <td>-0.306133</td>\n",
       "      <td>0.018319</td>\n",
       "    </tr>\n",
       "    <tr>\n",
       "      <th>96</th>\n",
       "      <td>0.022733</td>\n",
       "      <td>-0.002305</td>\n",
       "      <td>0.265458</td>\n",
       "      <td>-0.267763</td>\n",
       "      <td>0.018319</td>\n",
       "    </tr>\n",
       "    <tr>\n",
       "      <th>97</th>\n",
       "      <td>-0.072459</td>\n",
       "      <td>0.032809</td>\n",
       "      <td>0.265458</td>\n",
       "      <td>-0.232650</td>\n",
       "      <td>0.018319</td>\n",
       "    </tr>\n",
       "    <tr>\n",
       "      <th>98</th>\n",
       "      <td>-0.474581</td>\n",
       "      <td>0.689516</td>\n",
       "      <td>0.265458</td>\n",
       "      <td>0.424057</td>\n",
       "      <td>0.660912</td>\n",
       "    </tr>\n",
       "    <tr>\n",
       "      <th>99</th>\n",
       "      <td>-0.392109</td>\n",
       "      <td>0.502607</td>\n",
       "      <td>0.265458</td>\n",
       "      <td>0.237148</td>\n",
       "      <td>0.487796</td>\n",
       "    </tr>\n",
       "  </tbody>\n",
       "</table>\n",
       "<p>100 rows × 5 columns</p>\n",
       "</div>"
      ],
      "text/plain": [
       "           X         y     pred1      res1     pred2\n",
       "0  -0.125460  0.051573  0.265458 -0.213885  0.018319\n",
       "1   0.450714  0.594480  0.265458  0.329021  0.605884\n",
       "2   0.231994  0.166052  0.265458 -0.099407  0.215784\n",
       "3   0.098658 -0.070178  0.265458 -0.335636  0.018319\n",
       "4  -0.343981  0.343986  0.265458  0.078528  0.305964\n",
       "..       ...       ...       ...       ...       ...\n",
       "95 -0.006204 -0.040675  0.265458 -0.306133  0.018319\n",
       "96  0.022733 -0.002305  0.265458 -0.267763  0.018319\n",
       "97 -0.072459  0.032809  0.265458 -0.232650  0.018319\n",
       "98 -0.474581  0.689516  0.265458  0.424057  0.660912\n",
       "99 -0.392109  0.502607  0.265458  0.237148  0.487796\n",
       "\n",
       "[100 rows x 5 columns]"
      ]
     },
     "execution_count": 51,
     "metadata": {},
     "output_type": "execute_result"
    }
   ],
   "source": [
    "df"
   ]
  },
  {
   "cell_type": "code",
   "execution_count": 52,
   "id": "dbe1d08e",
   "metadata": {},
   "outputs": [],
   "source": [
    "df[\"res2\"] = df[\"y\"] - df[\"pred2\"]"
   ]
  },
  {
   "cell_type": "code",
   "execution_count": 53,
   "id": "bd9eb110",
   "metadata": {},
   "outputs": [
    {
     "data": {
      "text/html": [
       "<div>\n",
       "<style scoped>\n",
       "    .dataframe tbody tr th:only-of-type {\n",
       "        vertical-align: middle;\n",
       "    }\n",
       "\n",
       "    .dataframe tbody tr th {\n",
       "        vertical-align: top;\n",
       "    }\n",
       "\n",
       "    .dataframe thead th {\n",
       "        text-align: right;\n",
       "    }\n",
       "</style>\n",
       "<table border=\"1\" class=\"dataframe\">\n",
       "  <thead>\n",
       "    <tr style=\"text-align: right;\">\n",
       "      <th></th>\n",
       "      <th>X</th>\n",
       "      <th>y</th>\n",
       "      <th>pred1</th>\n",
       "      <th>res1</th>\n",
       "      <th>pred2</th>\n",
       "      <th>res2</th>\n",
       "    </tr>\n",
       "  </thead>\n",
       "  <tbody>\n",
       "    <tr>\n",
       "      <th>0</th>\n",
       "      <td>-0.125460</td>\n",
       "      <td>0.051573</td>\n",
       "      <td>0.265458</td>\n",
       "      <td>-0.213885</td>\n",
       "      <td>0.018319</td>\n",
       "      <td>0.033254</td>\n",
       "    </tr>\n",
       "    <tr>\n",
       "      <th>1</th>\n",
       "      <td>0.450714</td>\n",
       "      <td>0.594480</td>\n",
       "      <td>0.265458</td>\n",
       "      <td>0.329021</td>\n",
       "      <td>0.605884</td>\n",
       "      <td>-0.011404</td>\n",
       "    </tr>\n",
       "    <tr>\n",
       "      <th>2</th>\n",
       "      <td>0.231994</td>\n",
       "      <td>0.166052</td>\n",
       "      <td>0.265458</td>\n",
       "      <td>-0.099407</td>\n",
       "      <td>0.215784</td>\n",
       "      <td>-0.049732</td>\n",
       "    </tr>\n",
       "    <tr>\n",
       "      <th>3</th>\n",
       "      <td>0.098658</td>\n",
       "      <td>-0.070178</td>\n",
       "      <td>0.265458</td>\n",
       "      <td>-0.335636</td>\n",
       "      <td>0.018319</td>\n",
       "      <td>-0.088497</td>\n",
       "    </tr>\n",
       "    <tr>\n",
       "      <th>4</th>\n",
       "      <td>-0.343981</td>\n",
       "      <td>0.343986</td>\n",
       "      <td>0.265458</td>\n",
       "      <td>0.078528</td>\n",
       "      <td>0.305964</td>\n",
       "      <td>0.038022</td>\n",
       "    </tr>\n",
       "    <tr>\n",
       "      <th>...</th>\n",
       "      <td>...</td>\n",
       "      <td>...</td>\n",
       "      <td>...</td>\n",
       "      <td>...</td>\n",
       "      <td>...</td>\n",
       "      <td>...</td>\n",
       "    </tr>\n",
       "    <tr>\n",
       "      <th>95</th>\n",
       "      <td>-0.006204</td>\n",
       "      <td>-0.040675</td>\n",
       "      <td>0.265458</td>\n",
       "      <td>-0.306133</td>\n",
       "      <td>0.018319</td>\n",
       "      <td>-0.058994</td>\n",
       "    </tr>\n",
       "    <tr>\n",
       "      <th>96</th>\n",
       "      <td>0.022733</td>\n",
       "      <td>-0.002305</td>\n",
       "      <td>0.265458</td>\n",
       "      <td>-0.267763</td>\n",
       "      <td>0.018319</td>\n",
       "      <td>-0.020624</td>\n",
       "    </tr>\n",
       "    <tr>\n",
       "      <th>97</th>\n",
       "      <td>-0.072459</td>\n",
       "      <td>0.032809</td>\n",
       "      <td>0.265458</td>\n",
       "      <td>-0.232650</td>\n",
       "      <td>0.018319</td>\n",
       "      <td>0.014489</td>\n",
       "    </tr>\n",
       "    <tr>\n",
       "      <th>98</th>\n",
       "      <td>-0.474581</td>\n",
       "      <td>0.689516</td>\n",
       "      <td>0.265458</td>\n",
       "      <td>0.424057</td>\n",
       "      <td>0.660912</td>\n",
       "      <td>0.028604</td>\n",
       "    </tr>\n",
       "    <tr>\n",
       "      <th>99</th>\n",
       "      <td>-0.392109</td>\n",
       "      <td>0.502607</td>\n",
       "      <td>0.265458</td>\n",
       "      <td>0.237148</td>\n",
       "      <td>0.487796</td>\n",
       "      <td>0.014810</td>\n",
       "    </tr>\n",
       "  </tbody>\n",
       "</table>\n",
       "<p>100 rows × 6 columns</p>\n",
       "</div>"
      ],
      "text/plain": [
       "           X         y     pred1      res1     pred2      res2\n",
       "0  -0.125460  0.051573  0.265458 -0.213885  0.018319  0.033254\n",
       "1   0.450714  0.594480  0.265458  0.329021  0.605884 -0.011404\n",
       "2   0.231994  0.166052  0.265458 -0.099407  0.215784 -0.049732\n",
       "3   0.098658 -0.070178  0.265458 -0.335636  0.018319 -0.088497\n",
       "4  -0.343981  0.343986  0.265458  0.078528  0.305964  0.038022\n",
       "..       ...       ...       ...       ...       ...       ...\n",
       "95 -0.006204 -0.040675  0.265458 -0.306133  0.018319 -0.058994\n",
       "96  0.022733 -0.002305  0.265458 -0.267763  0.018319 -0.020624\n",
       "97 -0.072459  0.032809  0.265458 -0.232650  0.018319  0.014489\n",
       "98 -0.474581  0.689516  0.265458  0.424057  0.660912  0.028604\n",
       "99 -0.392109  0.502607  0.265458  0.237148  0.487796  0.014810\n",
       "\n",
       "[100 rows x 6 columns]"
      ]
     },
     "execution_count": 53,
     "metadata": {},
     "output_type": "execute_result"
    }
   ],
   "source": [
    "df"
   ]
  },
  {
   "cell_type": "code",
   "execution_count": 54,
   "id": "2d9b2d54",
   "metadata": {},
   "outputs": [],
   "source": [
    "tree2 = DecisionTreeRegressor(max_leaf_nodes=8)"
   ]
  },
  {
   "cell_type": "code",
   "execution_count": 55,
   "id": "10eabb44",
   "metadata": {},
   "outputs": [
    {
     "data": {
      "text/plain": [
       "DecisionTreeRegressor(max_leaf_nodes=8)"
      ]
     },
     "execution_count": 55,
     "metadata": {},
     "output_type": "execute_result"
    }
   ],
   "source": [
    "tree2.fit(df[\"X\"].values.reshape(100,1),df[\"res2\"].values.reshape(100,1))"
   ]
  },
  {
   "cell_type": "code",
   "execution_count": 59,
   "id": "2d648d18",
   "metadata": {},
   "outputs": [],
   "source": [
    "y_pred2 = 0.265458 + sum(regressor.predict(X_test.reshape(-1,1)) for regressor in [tree1,tree2])"
   ]
  },
  {
   "cell_type": "code",
   "execution_count": 63,
   "id": "59fd3f3f",
   "metadata": {},
   "outputs": [
    {
     "data": {
      "text/plain": [
       "<matplotlib.collections.PathCollection at 0x268217b8430>"
      ]
     },
     "execution_count": 63,
     "metadata": {},
     "output_type": "execute_result"
    },
    {
     "data": {
      "image/png": "[encoded data removed]",
      "text/plain": [
       "<Figure size 1008x288 with 1 Axes>"
      ]
     },
     "metadata": {
      "needs_background": "light"
     },
     "output_type": "display_data"
    }
   ],
   "source": [
    "plt.figure(figsize=(14,4))\n",
    "plt.subplot(121)\n",
    "plt.plot(X_test,y_pred2,linewidth=2,color=\"red\")\n",
    "plt.scatter(df[\"X\"],df[\"y\"])"
   ]
  },
  {
   "cell_type": "code",
   "execution_count": 64,
   "id": "a6e1f519",
   "metadata": {},
   "outputs": [],
   "source": [
    "def gradient_boost(X,y,number,lr,count=1,regs=[],foo=None):\n",
    "\n",
    "  if number == 0:\n",
    "    return \n",
    "  else:\n",
    "    # do gradient boosting\n",
    "\n",
    "    if count > 1:\n",
    "      y = y - regs[-1].predict(X)\n",
    "    else:\n",
    "      foo = y\n",
    "\n",
    "    tree_reg = DecisionTreeRegressor(max_depth=5, random_state=42)\n",
    "    tree_reg.fit(X, y)\n",
    "\n",
    "    regs.append(tree_reg)\n",
    "\n",
    "    x1 = np.linspace(-0.5, 0.5, 500)\n",
    "    y_pred = sum(lr * regressor.predict(x1.reshape(-1, 1)) for regressor in regs)\n",
    "\n",
    "    print(number)\n",
    "    plt.figure()\n",
    "    plt.plot(x1, y_pred, linewidth=2)\n",
    "    plt.plot(X[:, 0], foo,\"r.\")\n",
    "    plt.show()\n",
    "\n",
    "    gradient_boost(X,y,number-1,lr,count+1,regs,foo=foo)\n"
   ]
  },
  {
   "cell_type": "code",
   "execution_count": 65,
   "id": "12ad97d1",
   "metadata": {},
   "outputs": [
    {
     "name": "stdout",
     "output_type": "stream",
     "text": [
      "5\n"
     ]
    },
    {
     "data": {
      "image/png": "[encoded data removed]",
      "text/plain": [
       "<Figure size 432x288 with 1 Axes>"
      ]
     },
     "metadata": {
      "needs_background": "light"
     },
     "output_type": "display_data"
    },
    {
     "name": "stdout",
     "output_type": "stream",
     "text": [
      "4\n"
     ]
    },
    {
     "data": {
      "image/png": "[encoded data removed]",
      "text/plain": [
       "<Figure size 432x288 with 1 Axes>"
      ]
     },
     "metadata": {
      "needs_background": "light"
     },
     "output_type": "display_data"
    },
    {
     "name": "stdout",
     "output_type": "stream",
     "text": [
      "3\n"
     ]
    },
    {
     "data": {
      "image/png": "[encoded data removed]",
      "text/plain": [
       "<Figure size 432x288 with 1 Axes>"
      ]
     },
     "metadata": {
      "needs_background": "light"
     },
     "output_type": "display_data"
    },
    {
     "name": "stdout",
     "output_type": "stream",
     "text": [
      "2\n"
     ]
    },
    {
     "data": {
      "image/png": "[encoded data removed]",
      "text/plain": [
       "<Figure size 432x288 with 1 Axes>"
      ]
     },
     "metadata": {
      "needs_background": "light"
     },
     "output_type": "display_data"
    },
    {
     "name": "stdout",
     "output_type": "stream",
     "text": [
      "1\n"
     ]
    },
    {
     "data": {
      "image/png": "[encoded data removed]",
      "text/plain": [
       "<Figure size 432x288 with 1 Axes>"
      ]
     },
     "metadata": {
      "needs_background": "light"
     },
     "output_type": "display_data"
    }
   ],
   "source": [
    "np.random.seed(42)\n",
    "X = np.random.rand(100, 1) - 0.5\n",
    "y = 3*X[:, 0]**2 + 0.05 * np.random.randn(100)\n",
    "gradient_boost(X,y,5,lr=1)"
   ]
  },
  {
   "cell_type": "code",
   "execution_count": null,
   "id": "aa1f13a5",
   "metadata": {},
   "outputs": [],
   "source": []
  }
 ],
 "metadata": {
  "kernelspec": {
   "display_name": "Python 3",
   "language": "python",
   "name": "python3"
  },
  "language_info": {
   "codemirror_mode": {
    "name": "ipython",
    "version": 3
   },
   "file_extension": ".py",
   "mimetype": "text/x-python",
   "name": "python",
   "nbconvert_exporter": "python",
   "pygments_lexer": "ipython3",
   "version": "3.8.8"
  }
 },
 "nbformat": 4,
 "nbformat_minor": 5
}
